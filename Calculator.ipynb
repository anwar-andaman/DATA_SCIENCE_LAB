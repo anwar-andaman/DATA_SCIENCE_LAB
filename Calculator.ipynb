{
 "cells": [
  {
   "cell_type": "code",
   "execution_count": 13,
   "metadata": {},
   "outputs": [
    {
     "name": "stdout",
     "output_type": "stream",
     "text": [
      "1: Addition\n",
      "2: Subtraction\n",
      "3: Multiplication\n",
      "4: Division\n",
      "5: Exit Program\n",
      "\n",
      "Enter your choice from the above options: 1\n",
      "\n",
      "Enter the first number: 23\n",
      "\n",
      "Enter the second number: 45\n",
      "\n",
      "The sum of the two entered number is 68.00\n",
      "\n",
      "1: Addition\n",
      "2: Subtraction\n",
      "3: Multiplication\n",
      "4: Division\n",
      "5: Exit Program\n",
      "\n",
      "Enter your choice from the above options: 3\n",
      "\n",
      "Enter the first number: 45\n",
      "\n",
      "Enter the second number: 6\n",
      "\n",
      "The product of the two entered number is 270.00\n",
      "\n",
      "1: Addition\n",
      "2: Subtraction\n",
      "3: Multiplication\n",
      "4: Division\n",
      "5: Exit Program\n",
      "\n",
      "Enter your choice from the above options: 4\n",
      "\n",
      "Enter the first number: 10\n",
      "\n",
      "Enter the second number: 0\n",
      "\n",
      "Some error occured. Please give valid inputs\n",
      "1: Addition\n",
      "2: Subtraction\n",
      "3: Multiplication\n",
      "4: Division\n",
      "5: Exit Program\n",
      "\n",
      "Enter your choice from the above options: 5\n"
     ]
    }
   ],
   "source": [
    "#Program for a simple calculator\n",
    "\n",
    "   \n",
    "while True:\n",
    "    print(\"1: Addition\")\n",
    "    print(\"2: Subtraction\")\n",
    "    print(\"3: Multiplication\")\n",
    "    print(\"4: Division\")\n",
    "    print(\"5: Exit Program\")\n",
    "    choice = int(input(\"\\nEnter your choice from the above options: \"))\n",
    "    if not choice in [1,2,3,4,5]:\n",
    "        print(\"\\nPlease enter a valid choice!!!!!!!!\\n\")\n",
    "        continue\n",
    "    elif choice == 5:\n",
    "        break\n",
    "    else:\n",
    "        try:\n",
    "           \n",
    "           num1 = float(input(\"\\nEnter the first number: \"))\n",
    "           num2 = float(input(\"\\nEnter the second number: \"))\n",
    "           if choice == 1:\n",
    "               print(\"\\nThe sum of the two entered number is %.2f\\n\" %(num1 + num2))\n",
    "           elif choice == 2:\n",
    "               print(\"\\nThe result of subtration of the two entered number is %.2f\\n\" %(num1 - num2))\n",
    "           elif choice == 3:\n",
    "               print(\"\\nThe product of the two entered number is %.2f\\n\" %(num1 * num2))  \n",
    "           elif choice == 4:\n",
    "               print(\"\\nThe result of the division of the two entered number is %.2f\\n\" %(num1 / num2))\n",
    "        except:\n",
    "            print(\"\\nSome error occured. Please give valid inputs\")"
   ]
  },
  {
   "cell_type": "code",
   "execution_count": null,
   "metadata": {},
   "outputs": [],
   "source": []
  }
 ],
 "metadata": {
  "kernelspec": {
   "display_name": "Python 3",
   "language": "python",
   "name": "python3"
  },
  "language_info": {
   "codemirror_mode": {
    "name": "ipython",
    "version": 3
   },
   "file_extension": ".py",
   "mimetype": "text/x-python",
   "name": "python",
   "nbconvert_exporter": "python",
   "pygments_lexer": "ipython3",
   "version": "3.6.9"
  }
 },
 "nbformat": 4,
 "nbformat_minor": 2
}
